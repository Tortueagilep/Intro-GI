{
 "cells": [
  {
   "cell_type": "markdown",
   "metadata": {},
   "source": [
    "# Méthode brute - Calcul de la solution optimale"
   ]
  },
  {
   "cell_type": "code",
   "execution_count": 10,
   "metadata": {},
   "outputs": [],
   "source": [
    "## Données de la petite instance - Exécuter uniquement ce bloc de données\n",
    "\n",
    "import itertools\n",
    "import numpy as np\n",
    "import random \n",
    "import time\n",
    "from operator import itemgetter, attrgetter\n",
    "\n",
    "nb_empl = 8\n",
    "nb_mach = 8\n",
    "nb_prod=7\n",
    "\n",
    "# Matrice des distances\n",
    "distances = np.array([\n",
    "    [0,  9,  4,  9,  9,  4, 15, 10, 11,  9],\n",
    "    [7,  0,  6, 11, 14,  5,  9,  6,  7,  7],\n",
    "    [4, 13,  0,  9,  9, 14, 15,  8,  5, 14],\n",
    "    [7,  5,  8,  0,  4, 15, 12, 10,  5,  7],\n",
    "    [11,  8,  7, 13,  0, 11, 10,  7,  5,  8],\n",
    "    [13,  4,  6, 15, 10,  0,  4,  6,  9,  7],\n",
    "    [9,  4, 10, 15,  5, 13,  0,  8,  7, 15],\n",
    "    [11,  7,  7, 10, 13, 15, 10,  0, 12, 11],\n",
    "    [9,  6, 10, 10, 11, 10,  7,  4,  0,  5],\n",
    "    [10, 10, 11,  9,  7,  9,  5, 11,  8,  0]\n",
    "])\n",
    "\n",
    "# Matrice Y des ordres de fabrications pour les produits\n",
    "ordre_machines = np.array([\n",
    "    [2, 1, 6, 3, 7, 5, 4, 0],\n",
    "    [5, 3, 4, 1, 7, 2, 6, 0],\n",
    "    [6, 0, 5, 3, 1, 2, 4, 0],\n",
    "    [6, 5, 3, 1, 4, 7, 2, 0],\n",
    "    [0, 2, 1, 5, 0, 3, 4, 0],\n",
    "    [1, 3, 2, 5, 4, 7, 6, 0],\n",
    "    [6, 0, 4, 5, 1, 2, 3, 0]\n",
    "])\n",
    "\n",
    "# Pour avoir le nombre de vente de chaque produit\n",
    "volume_ventes=np.array([[1,6982],\n",
    "                       [2,2185],\n",
    "                       [3,3209],\n",
    "                       [4,2083],\n",
    "                       [5,4286],\n",
    "                       [6,5654],\n",
    "                       [7,3925]])\n",
    "\n",
    "\n",
    "\n",
    "L_P=[k for k in range (1,nb_prod+1)]\n"
   ]
  },
  {
   "cell_type": "markdown",
   "metadata": {},
   "source": [
    "## Annexes pour le calcul du coût"
   ]
  },
  {
   "cell_type": "code",
   "execution_count": 11,
   "id": "c0248c96",
   "metadata": {},
   "outputs": [
    {
     "name": "stdout",
     "output_type": "stream",
     "text": [
      "[1, 7, 4, 5, 3, 6, 2]\n"
     ]
    }
   ],
   "source": [
    "def ordre_machines2(k):\n",
    "    res= np.argsort(ordre_machines[k-1])\n",
    "    res=[x for x in res if x!=0]\n",
    "    res = [int(x) for x in res]\n",
    "    return res\n",
    "\n",
    "print(ordre_machines2(3))"
   ]
  },
  {
   "cell_type": "code",
   "execution_count": null,
   "metadata": {},
   "outputs": [],
   "source": [
    "# Fonction qui renvoie le cout d'un chemin entier à partir d'une liste d'emplacements\n",
    "def temps_chemin(L_E):\n",
    "    n=len(L_E)\n",
    "    d=0\n",
    "    for k in range (n-1):\n",
    "        a, b=L_E[k], L_E[k+1]       \n",
    "        d+=distances[a][b]   \n",
    "    return d\n",
    "\n",
    "# Fonction qui renvoie le nombre de vente du produit k\n",
    "def nb_vente(k):\n",
    "    for i in range (len(indice_vente)):\n",
    "        if indice_vente[i][0]==k:\n",
    "            return indice_vente[i][1]\n",
    "\n",
    "# Fonction qui renvoie l'ordre des machines pour le produit k\n",
    "def ordre_machines(k):\n",
    "    res=[0]\n",
    "    lignek=Y[k-1]\n",
    "    i=1\n",
    "    while i<nb_empl:\n",
    "        for j in range (nb_mach):\n",
    "            if lignek[j]==i:\n",
    "                res.append(j+1)\n",
    "        i=i+1\n",
    "    res.append(nb_empl-1)\n",
    "    return res\n",
    "\n",
    "def ordre_machines2(k):\n",
    "    res= np.argsort(ordre_machines[k-1])\n",
    "    res=res[x for x in res if x!=0]\n",
    "    return res\n",
    "\n",
    "# Fonction annexe qui renvoie la liste des emplacements à parcourir pour une liste de machines donnée\n",
    "def mac_give_empl(l_mac, Combi):\n",
    "    l_empl=[]\n",
    "    for i in range (len(l_mac)):\n",
    "        for j in range (len(Combi)):\n",
    "            if l_mac[i]==Combi[j][1]:\n",
    "                l_empl.append(Combi[j][0])\n",
    "    return l_empl\n",
    "\n",
    "# Fonction annexe de calcul de cout à partir d'une combinaison Emplacement/Machines\n",
    "def cout_total(Combinaison):\n",
    "    cout_total=0\n",
    "    for produit in L_P:\n",
    "        if produit !=0:\n",
    "            # On récupère l'ordre des machines\n",
    "            ordre_m=ordre_machines(produit)\n",
    "            # Emplacements à parcourir correspondants\n",
    "            empl=mac_give_empl(ordre_m, Combinaison)\n",
    "            # Calcul du cout de ce chemin\n",
    "            cout=cost_chemin(empl)\n",
    "            cout_total=cout_total+(cout*nb_vente(produit))\n",
    "    return cout_total\n",
    "\n",
    "# Créér la liste de liste Combi à partir d'une liste de machines\n",
    "def construire_Combi(Machines):\n",
    "    return [[k, Machines[k]] for k in range (len(Machines))]\n"
   ]
  },
  {
   "cell_type": "markdown",
   "metadata": {},
   "source": [
    "## Calcul de la solution optimale"
   ]
  },
  {
   "cell_type": "code",
   "execution_count": 3,
   "metadata": {},
   "outputs": [
    {
     "ename": "KeyboardInterrupt",
     "evalue": "",
     "output_type": "error",
     "traceback": [
      "\u001b[0;31m---------------------------------------------------------------------------\u001b[0m",
      "\u001b[0;31mKeyboardInterrupt\u001b[0m                         Traceback (most recent call last)",
      "\u001b[0;32m<ipython-input-3-5ad3d7da40c4>\u001b[0m in \u001b[0;36m<module>\u001b[0;34m\u001b[0m\n\u001b[1;32m     11\u001b[0m     \u001b[0mpermutations\u001b[0m\u001b[0;34m[\u001b[0m\u001b[0mk\u001b[0m\u001b[0;34m]\u001b[0m\u001b[0;34m.\u001b[0m\u001b[0minsert\u001b[0m\u001b[0;34m(\u001b[0m\u001b[0;36m0\u001b[0m\u001b[0;34m,\u001b[0m \u001b[0;36m0\u001b[0m\u001b[0;34m)\u001b[0m\u001b[0;34m\u001b[0m\u001b[0;34m\u001b[0m\u001b[0m\n\u001b[1;32m     12\u001b[0m     \u001b[0mcombi\u001b[0m\u001b[0;34m=\u001b[0m\u001b[0mconstruire_Combi\u001b[0m\u001b[0;34m(\u001b[0m\u001b[0mpermutations\u001b[0m\u001b[0;34m[\u001b[0m\u001b[0mk\u001b[0m\u001b[0;34m]\u001b[0m\u001b[0;34m)\u001b[0m\u001b[0;34m\u001b[0m\u001b[0;34m\u001b[0m\u001b[0m\n\u001b[0;32m---> 13\u001b[0;31m     \u001b[0mDonnes\u001b[0m\u001b[0;34m.\u001b[0m\u001b[0mappend\u001b[0m\u001b[0;34m(\u001b[0m\u001b[0;34m[\u001b[0m\u001b[0mcombi\u001b[0m \u001b[0;34m,\u001b[0m \u001b[0mcout_total\u001b[0m\u001b[0;34m(\u001b[0m\u001b[0mcombi\u001b[0m\u001b[0;34m)\u001b[0m\u001b[0;34m]\u001b[0m\u001b[0;34m)\u001b[0m\u001b[0;34m\u001b[0m\u001b[0;34m\u001b[0m\u001b[0m\n\u001b[0m\u001b[1;32m     14\u001b[0m \u001b[0mprint\u001b[0m\u001b[0;34m(\u001b[0m\u001b[0mDonnes\u001b[0m\u001b[0;34m)\u001b[0m\u001b[0;34m\u001b[0m\u001b[0;34m\u001b[0m\u001b[0m\n\u001b[1;32m     15\u001b[0m \u001b[0mresult\u001b[0m\u001b[0;34m=\u001b[0m\u001b[0mmin\u001b[0m\u001b[0;34m(\u001b[0m\u001b[0mDonnes\u001b[0m\u001b[0;34m,\u001b[0m \u001b[0mkey\u001b[0m\u001b[0;34m=\u001b[0m\u001b[0mitemgetter\u001b[0m\u001b[0;34m(\u001b[0m\u001b[0;36m1\u001b[0m\u001b[0;34m)\u001b[0m\u001b[0;34m)\u001b[0m\u001b[0;34m\u001b[0m\u001b[0;34m\u001b[0m\u001b[0m\n",
      "\u001b[0;32m<ipython-input-2-33eb7e2a170b>\u001b[0m in \u001b[0;36mcout_total\u001b[0;34m(Combinaison)\u001b[0m\n\u001b[1;32m     42\u001b[0m         \u001b[0;32mif\u001b[0m \u001b[0mproduit\u001b[0m \u001b[0;34m!=\u001b[0m\u001b[0;36m0\u001b[0m\u001b[0;34m:\u001b[0m\u001b[0;34m\u001b[0m\u001b[0;34m\u001b[0m\u001b[0m\n\u001b[1;32m     43\u001b[0m             \u001b[0;31m# On récupère l'ordre des machines\u001b[0m\u001b[0;34m\u001b[0m\u001b[0;34m\u001b[0m\u001b[0;34m\u001b[0m\u001b[0m\n\u001b[0;32m---> 44\u001b[0;31m             \u001b[0mordre_m\u001b[0m\u001b[0;34m=\u001b[0m\u001b[0mordre_machines\u001b[0m\u001b[0;34m(\u001b[0m\u001b[0mproduit\u001b[0m\u001b[0;34m)\u001b[0m\u001b[0;34m\u001b[0m\u001b[0;34m\u001b[0m\u001b[0m\n\u001b[0m\u001b[1;32m     45\u001b[0m             \u001b[0;31m# Emplacements à parcourir correspondants\u001b[0m\u001b[0;34m\u001b[0m\u001b[0;34m\u001b[0m\u001b[0;34m\u001b[0m\u001b[0m\n\u001b[1;32m     46\u001b[0m             \u001b[0mempl\u001b[0m\u001b[0;34m=\u001b[0m\u001b[0mmac_give_empl\u001b[0m\u001b[0;34m(\u001b[0m\u001b[0mordre_m\u001b[0m\u001b[0;34m,\u001b[0m \u001b[0mCombinaison\u001b[0m\u001b[0;34m)\u001b[0m\u001b[0;34m\u001b[0m\u001b[0;34m\u001b[0m\u001b[0m\n",
      "\u001b[0;32m<ipython-input-2-33eb7e2a170b>\u001b[0m in \u001b[0;36mordre_machines\u001b[0;34m(k)\u001b[0m\n\u001b[1;32m     21\u001b[0m     \u001b[0;32mwhile\u001b[0m \u001b[0mi\u001b[0m\u001b[0;34m<\u001b[0m\u001b[0mnb_empl\u001b[0m\u001b[0;34m:\u001b[0m\u001b[0;34m\u001b[0m\u001b[0;34m\u001b[0m\u001b[0m\n\u001b[1;32m     22\u001b[0m         \u001b[0;32mfor\u001b[0m \u001b[0mj\u001b[0m \u001b[0;32min\u001b[0m \u001b[0mrange\u001b[0m \u001b[0;34m(\u001b[0m\u001b[0mnb_mach\u001b[0m\u001b[0;34m)\u001b[0m\u001b[0;34m:\u001b[0m\u001b[0;34m\u001b[0m\u001b[0;34m\u001b[0m\u001b[0m\n\u001b[0;32m---> 23\u001b[0;31m             \u001b[0;32mif\u001b[0m \u001b[0mlignek\u001b[0m\u001b[0;34m[\u001b[0m\u001b[0mj\u001b[0m\u001b[0;34m]\u001b[0m\u001b[0;34m==\u001b[0m\u001b[0mi\u001b[0m\u001b[0;34m:\u001b[0m\u001b[0;34m\u001b[0m\u001b[0;34m\u001b[0m\u001b[0m\n\u001b[0m\u001b[1;32m     24\u001b[0m                 \u001b[0mres\u001b[0m\u001b[0;34m.\u001b[0m\u001b[0mappend\u001b[0m\u001b[0;34m(\u001b[0m\u001b[0mj\u001b[0m\u001b[0;34m+\u001b[0m\u001b[0;36m1\u001b[0m\u001b[0;34m)\u001b[0m\u001b[0;34m\u001b[0m\u001b[0;34m\u001b[0m\u001b[0m\n\u001b[1;32m     25\u001b[0m         \u001b[0mi\u001b[0m\u001b[0;34m=\u001b[0m\u001b[0mi\u001b[0m\u001b[0;34m+\u001b[0m\u001b[0;36m1\u001b[0m\u001b[0;34m\u001b[0m\u001b[0;34m\u001b[0m\u001b[0m\n",
      "\u001b[0;31mKeyboardInterrupt\u001b[0m: "
     ]
    }
   ],
   "source": [
    "\n",
    "start = time.time()\n",
    "\n",
    "inp_list = [k for k in range(1, nb_empl-1)]\n",
    "permutations = list(itertools.permutations(inp_list))\n",
    "Donnes=[]\n",
    "cout=[]\n",
    "\n",
    "for k in range (len(permutations)):\n",
    "    permutations[k]=list(permutations[k])\n",
    "    permutations[k].append(nb_empl-1)\n",
    "    permutations[k].insert(0, 0)\n",
    "    combi=construire_Combi(permutations[k])\n",
    "    Donnes.append([combi , cout_total(combi)])\n",
    "print(Donnes)\n",
    "result=min(Donnes, key=itemgetter(1))\n",
    "     \n",
    "end=time.time()\n",
    "time=end-start\n",
    "\n",
    "print('La solution est : '+str(result))\n",
    "print('Avec un temps de :')"
   ]
  }
 ],
 "metadata": {
  "kernelspec": {
   "display_name": "base",
   "language": "python",
   "name": "python3"
  },
  "language_info": {
   "codemirror_mode": {
    "name": "ipython",
    "version": 3
   },
   "file_extension": ".py",
   "mimetype": "text/x-python",
   "name": "python",
   "nbconvert_exporter": "python",
   "pygments_lexer": "ipython3",
   "version": "3.13.5"
  }
 },
 "nbformat": 4,
 "nbformat_minor": 5
}
