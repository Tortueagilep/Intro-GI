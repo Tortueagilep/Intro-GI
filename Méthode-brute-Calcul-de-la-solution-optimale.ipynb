{
 "cells": [
  {
   "cell_type": "markdown",
   "metadata": {},
   "source": [
    "# Méthode brute - Calcul de la solution optimale"
   ]
  },
  {
   "cell_type": "code",
   "execution_count": 37,
   "id": "46906c63",
   "metadata": {},
   "outputs": [],
   "source": [
    "## Données de la petite instance - Exécuter uniquement ce bloc de données\n",
    "\n",
    "import itertools\n",
    "import numpy as np\n",
    "import random \n",
    "import time\n",
    "from operator import itemgetter, attrgetter\n",
    "\n",
    "nb_empl = 8\n",
    "nb_mach = 8\n",
    "nb_prod=7\n",
    "\n",
    "# Matrice des distances\n",
    "distances = np.array([\n",
    "    [0,  9,  4,  9,  9,  4, 15, 10, 11,  9],\n",
    "    [7,  0,  6, 11, 14,  5,  9,  6,  7,  7],\n",
    "    [4, 13,  0,  9,  9, 14, 15,  8,  5, 14],\n",
    "    [7,  5,  8,  0,  4, 15, 12, 10,  5,  7],\n",
    "    [11,  8,  7, 13,  0, 11, 10,  7,  5,  8],\n",
    "    [13,  4,  6, 15, 10,  0,  4,  6,  9,  7],\n",
    "    [9,  4, 10, 15,  5, 13,  0,  8,  7, 15],\n",
    "    [11,  7,  7, 10, 13, 15, 10,  0, 12, 11],\n",
    "    [9,  6, 10, 10, 11, 10,  7,  4,  0,  5],\n",
    "    [10, 10, 11,  9,  7,  9,  5, 11,  8,  0]\n",
    "])\n",
    "\n",
    "# Matrice ordre_machines des ordres de fabrications pour les produits\n",
    "ordre_mac = np.array([\n",
    "    [2, 1, 6, 3, 7, 5, 4, 0],\n",
    "    [5, 3, 4, 1, 7, 2, 6, 0],\n",
    "    [6, 0, 5, 3, 1, 2, 4, 0],\n",
    "    [6, 5, 3, 1, 4, 7, 2, 0],\n",
    "    [0, 2, 1, 5, 0, 3, 4, 0],\n",
    "    [1, 3, 2, 5, 4, 7, 6, 0],\n",
    "    [6, 0, 4, 5, 1, 2, 3, 0]\n",
    "])\n",
    "\n",
    "# Pour avoir le nombre de vente de chaque produit\n",
    "nb_vente=np.array([0,6982,2185,3209,2083,4286,5654,3925])\n",
    "\n",
    "L_P=[k for k in range (1,nb_prod+1)]\n"
   ]
  },
  {
   "cell_type": "markdown",
   "id": "c74e023a",
   "metadata": {},
   "source": [
    "## Annexes pour le calcul du coût"
   ]
  },
  {
   "cell_type": "code",
   "execution_count": 38,
   "id": "285695a9",
   "metadata": {},
   "outputs": [],
   "source": [
    "# Fonction qui renvoie le cout d'un chemin entier à partir d'une liste d'emplacements L_E\n",
    "def temps_chemin(L_E):\n",
    "    n=len(L_E)\n",
    "    d=0\n",
    "    for k in range (n-1):\n",
    "        a, b=L_E[k], L_E[k+1]       \n",
    "        d+=distances[a][b]   \n",
    "    return d\n",
    "\n",
    "# Fonction qui renvoie l'ordre des machines pour le produit k\n",
    "def ordre_machines(k):\n",
    "    ligne = ordre_mac[k-1]                 # on prend la ligne k\n",
    "    indices = np.argsort(ligne)                 # indices triés selon les valeurs\n",
    "    indices = [int(i)+1 for i in indices if ligne[i] != 0]  # on garde seulement ceux dont la valeur != 0\n",
    "    return indices\n",
    "\n",
    "# Fonction annexe qui renvoie la liste des emplacements l_empl à parcourir pour une liste de machines l_mac donnée par une combinaison Combi\n",
    "def mac_give_empl(l_mac, Combi):\n",
    "    l_empl=[]\n",
    "    for i in range (len(l_mac)):\n",
    "        j = 0\n",
    "        while l_mac[i]!=Combi[j][1]:\n",
    "            j+=1\n",
    "        l_empl.append(Combi[j][0])\n",
    "    return l_empl\n",
    "\n",
    "# Fonction annexe de calcul de cout à partir d'une combinaison Emplacement/Machines\n",
    "def cout_total(Combinaison):\n",
    "    cout_total=0\n",
    "    for produit in L_P:\n",
    "        if produit !=0:\n",
    "            # On récupère l'ordre des machines\n",
    "            ordre_m=ordre_machines(produit)\n",
    "            # Emplacements à parcourir correspondants\n",
    "            empl=mac_give_empl(ordre_m, Combinaison)\n",
    "            # Calcul du cout de ce chemin\n",
    "            cout=temps_chemin(empl)\n",
    "            cout_total=cout_total+(cout*nb_vente[produit])\n",
    "    return cout_total\n",
    "\n",
    "# Créér la liste de liste Combi à partir d'une liste de machines\n",
    "def construire_Combi(Machines):\n",
    "    return [[k, Machines[k]] for k in range (len(Machines))]\n",
    "\n"
   ]
  },
  {
   "cell_type": "markdown",
   "id": "a4f6d31f",
   "metadata": {},
   "source": [
    "## Calcul de la solution optimale"
   ]
  },
  {
   "cell_type": "code",
   "execution_count": 39,
   "id": "a244f23c",
   "metadata": {},
   "outputs": [
    {
     "name": "stdout",
     "output_type": "stream",
     "text": [
      "Nombre de permutations testées: 30960\n",
      "La solution est : [[0, 0], [1, 7], [2, 3], [3, 2], [4, 1], [5, 8], [6, 4], [7, 6], [8, 5], [9, 9]] avec un coût de 1051574\n",
      "Trouvée avec un temps de : 1.111670732498169 secondes\n"
     ]
    }
   ],
   "source": [
    "start = time.time()\n",
    "inp_list = [k for k in range(1, nb_empl+1)]            #liste avec les numéros des machines dans l'ordre (faut il aller jusqu'à 8 pour intégrer la 8ème qu'on a mis à 0 ?\n",
    "permutations = list(itertools.permutations(inp_list))\n",
    "Donnes=[]\n",
    "cout=[]\n",
    "\n",
    "for permutation in permutations:\n",
    "    permutation=list(permutation)\n",
    "    permutation.append(nb_empl+1)   # Ajouter la porte de sortie\n",
    "    permutation.insert(0, 0)        # Ajouter la porte d'entrée \n",
    "    combi=construire_Combi(permutation)\n",
    "    if not [3,1] in combi and not [4,2] in combi:\n",
    "         Donnes.append([combi , cout_total(combi)])\n",
    "print(\"Nombre de permutations testées: \"+ str(len(Donnes)))\n",
    "result=min(Donnes, key=itemgetter(1))\n",
    "     \n",
    "end=time.time()\n",
    "time=end-start\n",
    "\n",
    "print(\"La solution est : \" + str(result[0]) + \" avec un coût de \" + str(int(result[1])))\n",
    "print(\"Trouvée avec un temps de : \"+str(time)+ \" secondes\")"
   ]
  }
 ],
 "metadata": {
  "kernelspec": {
   "display_name": "base",
   "language": "python",
   "name": "python3"
  },
  "language_info": {
   "codemirror_mode": {
    "name": "ipython",
    "version": 3
   },
   "file_extension": ".py",
   "mimetype": "text/x-python",
   "name": "python",
   "nbconvert_exporter": "python",
   "pygments_lexer": "ipython3",
   "version": "3.13.5"
  }
 },
 "nbformat": 4,
 "nbformat_minor": 5
}
